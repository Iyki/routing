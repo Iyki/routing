{
 "cells": [
  {
   "cell_type": "code",
   "execution_count": 1,
   "id": "26dac936",
   "metadata": {},
   "outputs": [],
   "source": [
    "import generator\n",
    "import model\n",
    "import os\n",
    "import matplotlib.pyplot as plt\n"
   ]
  },
  {
   "cell_type": "markdown",
   "id": "ccb7e081",
   "metadata": {},
   "source": [
    "### Loss functions and Embedding size"
   ]
  },
  {
   "cell_type": "code",
   "execution_count": 2,
   "id": "b425211f",
   "metadata": {},
   "outputs": [
    {
     "name": "stderr",
     "output_type": "stream",
     "text": [
      "/usr/lib/python3/dist-packages/torchvision/io/image.py:13: UserWarning: Failed to load image Python extension: '/usr/lib/python3/dist-packages/torchvision/image.so: undefined symbol: _ZN3c104cuda20CUDACachingAllocator9allocatorE'If you don't plan on using image functionality from `torchvision.io`, you can ignore this warning. Otherwise, there might be something wrong with your environment. Did you have `libjpeg` or `libpng` installed before building `torchvision` from source?\n",
      "  warn(\n"
     ]
    }
   ],
   "source": [
    "import pickle\n",
    "import torch\n",
    "import fastbook\n",
    "from fastbook import *\n",
    "from fastai.collab import *\n",
    "from fastai.tabular.all import *\n",
    "from fastai.losses import *\n",
    "import torch.nn as nn\n",
    "\n",
    "\n",
    "def get_small_emb_sz(dls_df, n_bits=None):\n",
    "    emb = get_emb_sz(dls_df)   # corresponds to number of nodes in each column\n",
    "    print(\"recommended emb size\", emb)\n",
    "    emb = max(emb,key=lambda x:x[0])\n",
    "    if n_bits == None:\n",
    "        n_bits = emb[1]\n",
    "    print(\"\\tusing emb size:\", (emb[0], n_bits))\n",
    "    return [(emb[0], n_bits)]\n",
    "\n",
    "\n",
    "def MRELoss(inp, targ) -> Tensor:\n",
    "    inp = torch.flatten(inp).float()\n",
    "    targ = torch.flatten(targ).float()\n",
    "    nom = torch.nn.functional.l1_loss(inp, targ)\n",
    "    noo = torch.Tensor([0]).repeat(targ.size(0)).to(device)\n",
    "    denom = torch.nn.functional.l1_loss(noo, targ)\n",
    "    loss = (nom / denom).mean()\n",
    "    return loss\n",
    "\n",
    "\n",
    "def CombineLoss(inp, targ) -> Tensor:\n",
    "    mse_loss = MSELossFlat()\n",
    "    loss_1 = mse_loss(inp, targ)\n",
    "\n",
    "    loss_2 = MRELoss(inp, targ)\n",
    "\n",
    "    return alpha * loss_1 + (1 - alpha) * loss_2"
   ]
  },
  {
   "cell_type": "code",
   "execution_count": 3,
   "id": "ce5d92bf",
   "metadata": {},
   "outputs": [],
   "source": [
    "# learn.recorder()from fastai2.imports import *\n",
    "# from fastai2.torch_core import *\n",
    "# from fastai2.learner import *\n",
    "# call as: learn.recorder.plot_metrics()\n",
    "@patch\n",
    "@delegates(subplots)\n",
    "def plot_metrics(self: Recorder, nrows=None, ncols=None, figsize=None, **kwargs):\n",
    "    metrics = np.stack(self.values)\n",
    "    names = self.metric_names[1:-1]\n",
    "    n = len(names) - 1\n",
    "    if nrows is None and ncols is None:\n",
    "        nrows = int(math.sqrt(n))\n",
    "        ncols = int(np.ceil(n / nrows))\n",
    "    elif nrows is None: nrows = int(np.ceil(n / ncols))\n",
    "    elif ncols is None: ncols = int(np.ceil(n / nrows))\n",
    "    figsize = figsize or (ncols * 6, nrows * 4)\n",
    "    fig, axs = subplots(nrows, ncols, figsize=figsize, **kwargs)\n",
    "    axs = [ax if i < n else ax.set_axis_off() for i, ax in enumerate(axs.flatten())][:n]\n",
    "    for i, (name, ax) in enumerate(zip(names, [axs[0]] + axs)):\n",
    "        ax.plot(metrics[:, i], color='#1f77b4' if i == 0 else '#ff7f0e', label='valid' if i > 0 else 'train')\n",
    "        ax.set_title(name if i > 1 else 'losses')\n",
    "        ax.legend(loc='best')\n",
    "    plt.show()\n",
    "    "
   ]
  },
  {
   "cell_type": "code",
   "execution_count": 4,
   "id": "13cf1cfe",
   "metadata": {},
   "outputs": [],
   "source": [
    "def create_model(dataset, loss_function, n_bits, valid_pct, savepath):\n",
    "    if (not os.path.exists(savepath)):\n",
    "        os.makedirs(savepath)\n",
    "\n",
    "    data = np.array(dataset)\n",
    "    df = pd.DataFrame(data, columns=['src', 'dst', 'label'])\n",
    "    dls_df = CollabDataLoaders.from_df(df, bs=64, valid_pct=valid_pct)\n",
    "    \n",
    "    embs_sz = get_small_emb_sz(dls_df, n_bits)\n",
    "    # multiply number of nodes by 2. max distance cannot be larger than this\n",
    "    # this represents the max width of an individual graph\n",
    "    max_value = df.label.max() * 2\n",
    "    print(\"max node is\", (df.src.max(), df.dst.max()), \"gotten by max label:\", df.label.max(), \"* embedding matrix size: \", embs_sz[0][0])\n",
    "    trainer = model.CollabNN(*embs_sz, y_range=(0, max_value))\n",
    "\n",
    "    learn = Learner(dls_df, trainer, loss_func=loss_function, path=savepath, metrics=[mse, mae, MRELoss])\n",
    "    \n",
    "    return learn, df\n",
    "\n",
    "def train_model(dataset, num_epochs, loss_function, valid_pct, n_bits=None, savepath=\"save/default/\"):\n",
    "\n",
    "    learn, df = create_model(dataset, loss_function, n_bits, valid_pct, savepath)\n",
    "\n",
    "#     SaveModelCallback(with_opt=True)\n",
    "    learn.remove_cb(ProgressCallback) #remove (uncomment) progresscallback if running from terminal\n",
    "\n",
    "    learn.fit_one_cycle(n_epoch=num_epochs, lr_max=5e-3, wd=0.01)\n",
    "    #, cbs=[EarlyStoppingCallback(monitor='train_loss', min_delta=1e-6, patience=100)])  #ShowGraphCallback(), \n",
    "    \n",
    "    allnodes = set(df.src).union(set(df.dst))\n",
    "    embs = learn.model.save_embeddings(Tensor(list(allnodes)).to(device).int())\n",
    "\n",
    "    with open(savepath + \"embeddings.pkl\", \"wb\") as outfile:\n",
    "        pickle.dump(embs, outfile)\n",
    "    \n",
    "    learn.export()\n",
    "    return learn"
   ]
  },
  {
   "cell_type": "markdown",
   "id": "5f644b33",
   "metadata": {},
   "source": [
    "### get the datasets"
   ]
  },
  {
   "cell_type": "code",
   "execution_count": 5,
   "id": "59d586db",
   "metadata": {},
   "outputs": [],
   "source": [
    "def get_cycles_dataset(lg_N):\n",
    "    cy_datapath =  'save/cycle/data/log_' + str(lg_N) + '_data'\n",
    "\n",
    "    if os.path.isfile(cy_datapath):\n",
    "        cycles_dataset = generator.load_dataset_from_file(cy_datapath)\n",
    "        print(\"similar data gotten before... retrieved data\")\n",
    "    else:\n",
    "        cycles_dataset = generator.generate_cycles_dataset(lg_N)\n",
    "        generator.save_dataset_to_file(cycles_dataset, cy_datapath)\n",
    "    cycles_dataset = np.array(cycles_dataset)\n",
    "#     np.random.shuffle(cycles_dataset)\n",
    "#     cycles_trainset, cycles_testset = cycles_dataset[:int(train_pct*len(cycles_dataset)),:], cycles_dataset[int(train_pct*len(cycles_dataset)):,:]\n",
    "    \n",
    "    return cycles_dataset"
   ]
  },
  {
   "cell_type": "code",
   "execution_count": 6,
   "id": "0a2e4f93",
   "metadata": {},
   "outputs": [],
   "source": [
    "def get_graphs_dataset(real_graph_paths=None):\n",
    "    if real_graph_paths == None:\n",
    "        real_graph_paths = [\n",
    "                            \"/jumbo/lisp/ike/code/DistanceLabelling/datasets/ENZYMES_g1/ENZYMES_g1.edges\",\n",
    "                            \"/jumbo/lisp/ike/code/DistanceLabelling/datasets/ENZYMES_g1/ENZYMES_g1.edges\", \n",
    "                           \"/jumbo/lisp/ike/code/DistanceLabelling/datasets/ENZYMES_g118/ENZYMES_g118.edges\"\n",
    "                           ]\n",
    "    gr_datapath =  'save/graph/data/ngraphs_' + str(len(real_graph_paths)) + '_data'\n",
    "\n",
    "    if os.path.isfile(gr_datapath):\n",
    "        graphs_dataset = generator.load_dataset_from_file(gr_datapath)\n",
    "        print(\"similar data gotten before... retrieved data\")\n",
    "    else:\n",
    "        graphs_dataset = generator.generate_real_graphs_dataset(real_graph_paths)\n",
    "        generator.save_dataset_to_file(graphs_dataset, gr_datapath)\n",
    "    graphs_dataset = np.array(graphs_dataset)\n",
    "#     np.random.shuffle(graphs_dataset)\n",
    "#     graphs_trainset, graphs_testset = graphs_dataset[:int(train_pct*len(graphs_dataset)),:], graphs_dataset[int(train_pct*len(graphs_dataset)):,:]\n",
    "    \n",
    "    return graphs_dataset"
   ]
  },
  {
   "cell_type": "code",
   "execution_count": 7,
   "id": "834bef91",
   "metadata": {},
   "outputs": [],
   "source": [
    "def get_trees_dataset(lg_N):\n",
    "    tr_datapath =  'save/tree/data/log_' + str(lg_N) + '_data'\n",
    "\n",
    "    if os.path.isfile(tr_datapath):\n",
    "        trees_dataset = generator.load_dataset_from_file(tr_datapath)\n",
    "        print(\"similar data gotten before... retrieved data\")\n",
    "    else:\n",
    "        trees_dataset = generator.generate_trees_dataset(2**lg_N)\n",
    "        generator.save_dataset_to_file(trees_dataset, tr_datapath)\n",
    "\n",
    "    trees_dataset = np.array(trees_dataset)\n",
    "#     np.random.shuffle(trees_dataset)\n",
    "#     trees_trainset, trees_testset = trees_dataset[:int(train_pct*len(trees_dataset)),:], trees_dataset[int(train_pct*len(trees_dataset)):,:]\n",
    "\n",
    "    return trees_dataset"
   ]
  },
  {
   "cell_type": "code",
   "execution_count": 8,
   "id": "025d688a",
   "metadata": {},
   "outputs": [],
   "source": [
    "def get_cycle_model(alpha, num_epochs, n_bits, loss_function, lg_N, train_pct):\n",
    "    # create and train on cycles\n",
    "    split = train_pct*100\n",
    "    cy_savepath = 'save/cycle/'+str(n_bits) + 'bits/split_' + str(\n",
    "        split) + '_' + str(alpha) + '_' + str(lg_N) + '_' + str(num_epochs) + '/'\n",
    "\n",
    "    saved = cy_savepath+\"export.pkl\" \n",
    "    if os.path.isfile(saved):\n",
    "        cycle_model = load_learner(saved, cpu=False)  # learn.load('model')\n",
    "        print(\"exact model trained before... retrieved model\")\n",
    "    else:\n",
    "        trainset = get_cycles_dataset(lg_N)\n",
    "        cycle_model = train_model(trainset, num_epochs, loss_function, 1-train_pct, n_bits=n_bits, savepath=cy_savepath)\n",
    "        cycle_model.recorder.plot_metrics()\n",
    "    return cycle_model"
   ]
  },
  {
   "cell_type": "code",
   "execution_count": 9,
   "id": "ccf22061",
   "metadata": {},
   "outputs": [],
   "source": [
    "def get_graph_model(alpha, num_epochs, n_bits, loss_function, train_pct):\n",
    "    split = train_pct*100\n",
    "    # create and train on real graphs\n",
    "    gr_savepath = 'save/graph/' +str(n_bits) + 'bits/split_' + str(split) + '_' + str(alpha) + '_' + str(num_epochs) + '/'\n",
    "    saved = gr_savepath+\"export.pkl\"  # \"models/model.pth\"\n",
    "    if os.path.isfile(saved):\n",
    "        graph_model = load_learner(saved, cpu=False)  # learn.load('model')\n",
    "        print(\"exact model trained before... retrieved model\")\n",
    "    else:\n",
    "        trainset = get_graphs_dataset(train_pct)\n",
    "        graph_model = train_model(trainset, num_epochs, loss_function, 1-train_pct, n_bits=n_bits, savepath=gr_savepath)\n",
    "        graph_model.recorder.plot_metrics()\n",
    "    return graph_model"
   ]
  },
  {
   "cell_type": "code",
   "execution_count": 10,
   "id": "66944a20",
   "metadata": {},
   "outputs": [],
   "source": [
    "def get_tree_model(alpha, num_epochs, n_bits, loss_function, lg_N, train_pct):\n",
    "    # create and train on trees\n",
    "    split = train_pct*100\n",
    "    tr_savepath = 'save/tree/'+str(n_bits) + 'bits/split_' + str(\n",
    "        split) + '_' + str(alpha) + '_' + str(lg_N) + '_' + str(num_epochs) + '/'\n",
    "    saved = tr_savepath+\"export.pkl\"  # \"models/model.pth\"\n",
    "    if os.path.isfile(saved):\n",
    "        tree_model = load_learner(saved, cpu=False)  # learn.load('model')\n",
    "        print(\"exact model trained before... retrieved model\")\n",
    "    else:\n",
    "        trainset = get_trees_dataset(lg_N)\n",
    "        tree_model = train_model(trainset, num_epochs, loss_function, 1-train_pct, n_bits=n_bits, savepath=tr_savepath)\n",
    "#         print(tree_model.model.node_to_emb)\n",
    "        tree_model.recorder.plot_metrics()\n",
    "        \n",
    "    return tree_model"
   ]
  },
  {
   "cell_type": "code",
   "execution_count": 22,
   "id": "7531bfeb",
   "metadata": {},
   "outputs": [],
   "source": [
    "def plot_bits_to_loss(max_bits, trainloss, model_type, alpha, num_epochs, eval_loss, lossname, train_pct, lg_N=4):\n",
    "    losses = []\n",
    "    \n",
    "    for n_bits in range(1, max_bits):\n",
    "      print(\"using\", n_bits, \"bits\")\n",
    "      if model_type.lower() == 'cycle':\n",
    "        lodel = get_cycle_model(alpha, num_epochs, n_bits, trainloss, lg_N, train_pct)\n",
    "      elif model_type.lower() == 'tree':\n",
    "        lodel = get_tree_model(alpha, num_epochs, n_bits, trainloss, lg_N, train_pct)\n",
    "      elif model_type.lower() == 'graph':\n",
    "        lodel = get_graph_model(alpha, num_epochs, n_bits, trainloss, train_pct)\n",
    "      else:\n",
    "        print(\"incorrect input\")\n",
    "        return\n",
    "\n",
    "      print(\"num bits used is: \", lodel.n_bits)\n",
    "      validset = Tensor(np.array(lodel.dls.valid.dataset.items.iloc[:,:2], dtype=np.int32)).to(device).to(int)\n",
    "      y_targ = Tensor(np.array(lodel.dls.valid.dataset.items.iloc[:,2], dtype=np.int32)).to(device).to(int)\n",
    "      preds = lodel.model(validset)\n",
    "      loss = eval_loss(preds, y_targ)\n",
    "      print(\"loss is: \", loss)\n",
    "      losses.append(float(loss))\n",
    "\n",
    "    plt.plot(range(1, max_bits), losses)\n",
    "    savepath = 'save/plot/'+lossname+'/' + model_type + '_' + str(alpha) + '_' + str(max_bits) + '.png'\n",
    "    os.makedirs(os.path.dirname(savepath), exist_ok=True)\n",
    "    \n",
    "    plt.title(lossname + ' loss for ' + model_type + ' model')\n",
    "    plt.savefig(savepath)\n",
    "    plt.show()"
   ]
  },
  {
   "cell_type": "code",
   "execution_count": 20,
   "id": "d84f7e96",
   "metadata": {},
   "outputs": [],
   "source": [
    "# shared hyperparams\n",
    "num_epochs = 50\n",
    "alpha = 0.1\n",
    "loss_function = CombineLoss\n",
    "# n_bits = 4\n",
    "lg_N = 5\n",
    "device = torch.device(\"cuda\" if torch.cuda.is_available() else \"cpu\")\n",
    "\n",
    "train_pct = 0.75\n",
    "eval_loss = CombineLoss\n",
    "\n",
    "\n",
    "# import osCombineLoss\n",
    "# os.environ['CUDA_LAUNCH_BLOCKING'] = \"1\"\n"
   ]
  },
  {
   "cell_type": "code",
   "execution_count": 21,
   "id": "177d8d59",
   "metadata": {},
   "outputs": [
    {
     "name": "stdout",
     "output_type": "stream",
     "text": [
      "using 1 bits\n",
      "exact model trained before... retrieved model\n",
      "num bits used is:  1\n",
      "loss is:  nan\n",
      "using 2 bits\n",
      "exact model trained before... retrieved model\n",
      "num bits used is:  2\n",
      "loss is:  nan\n",
      "using 3 bits\n",
      "exact model trained before... retrieved model\n",
      "num bits used is:  3\n",
      "loss is:  nan\n",
      "using 4 bits\n",
      "exact model trained before... retrieved model\n",
      "num bits used is:  4\n",
      "loss is:  nan\n"
     ]
    },
    {
     "data": {
      "image/png": "[encoded data removed]",
      "text/plain": [
       "<Figure size 640x480 with 1 Axes>"
      ]
     },
     "metadata": {},
     "output_type": "display_data"
    }
   ],
   "source": [
    "lodel = plot_bits_to_loss(5, loss_function, \"cycle\", alpha, num_epochs, eval_loss, \"MSE\", train_pct, lg_N=5)\n"
   ]
  },
  {
   "cell_type": "code",
   "execution_count": null,
   "id": "c08463be",
   "metadata": {},
   "outputs": [],
   "source": [
    "plot_bits_to_loss(8, loss_function, \"cycle\", alpha, num_epochs, eval_loss, \"MSE\", train_pct, lg_N=5)\n"
   ]
  },
  {
   "cell_type": "code",
   "execution_count": null,
   "id": "e05ab5be",
   "metadata": {},
   "outputs": [],
   "source": [
    "lodel.dls.valid.dataset.items.iloc[:,:2]"
   ]
  },
  {
   "cell_type": "code",
   "execution_count": null,
   "id": "58ac5c40",
   "metadata": {},
   "outputs": [],
   "source": [
    "type(lodel.dls.dataset)"
   ]
  },
  {
   "cell_type": "code",
   "execution_count": null,
   "id": "890d6d9d",
   "metadata": {},
   "outputs": [],
   "source": [
    "a = RandomSplitter()\n",
    "x = a(range(10))\n",
    "type(x[0])"
   ]
  },
  {
   "cell_type": "code",
   "execution_count": null,
   "id": "ceffaa78",
   "metadata": {},
   "outputs": [],
   "source": [
    "torch.IntTensor(np.array(lodel.dls.valid.dataset.items.iloc[:,:2]))"
   ]
  },
  {
   "cell_type": "code",
   "execution_count": null,
   "id": "0f5f9cee",
   "metadata": {},
   "outputs": [],
   "source": [
    "validset = torch.IntTensor(np.array(lodel.dls.valid.dataset.items.iloc[:,:2])).to(device)\n",
    "y_targ = torch.IntTensor(np.array(lodel.dls.valid.dataset.items.iloc[:,2])).to(device)\n",
    "preds = lodel.model(validset)\n",
    "loss = eval_loss(preds, y_targ)\n",
    "loss\n"
   ]
  }
 ],
 "metadata": {
  "kernelspec": {
   "display_name": "Python 3 (ipykernel)",
   "language": "python",
   "name": "python3"
  },
  "language_info": {
   "codemirror_mode": {
    "name": "ipython",
    "version": 3
   },
   "file_extension": ".py",
   "mimetype": "text/x-python",
   "name": "python",
   "nbconvert_exporter": "python",
   "pygments_lexer": "ipython3",
   "version": "3.10.6"
  }
 },
 "nbformat": 4,
 "nbformat_minor": 5
}
